{
 "cells": [
  {
   "cell_type": "markdown",
   "id": "b56d3c2f",
   "metadata": {},
   "source": [
    "## Demonstration of Catastrophic Forgetting in Single Head Continual Learning"
   ]
  },
  {
   "cell_type": "markdown",
   "id": "19e7c20e",
   "metadata": {},
   "source": [
    "Current machine learning algorithms although perfom well on the task their are trained to do.If the trained model is fine-tuned on another dataset it starts to loose performence on older datasets. This is called **Catastrophic Forgetting**\n",
    "\n",
    "Catastrophic Forgetting or Catastrophic interference is the tendency of neural network to completely and abruptly forget previously learned information upon learning new information.\n",
    "\n",
    "By the usage of Rehersal/Replay, catastrophic forgetting can be avoided to a resonable extent.\n"
   ]
  },
  {
   "cell_type": "code",
   "execution_count": null,
   "id": "5276ce6a",
   "metadata": {},
   "outputs": [],
   "source": [
    "import numpy as np\n",
    "import matplotlib.pyplot as plt\n",
    "import seaborn as sns\n",
    "\n",
    "import torch\n",
    "import torch.nn as nn\n",
    "import torchvision.datasets as datasets\n",
    "import torchvision.transforms as transforms\n",
    "import torch.optim as optim\n",
    "import torch.nn.functional as F"
   ]
  },
  {
   "cell_type": "code",
   "execution_count": 2,
   "id": "f41d4c5b",
   "metadata": {},
   "outputs": [],
   "source": [
    "use_cuda = True\n",
    "use_cuda = use_cuda and torch.cuda.is_available()\n",
    "device = torch.device(\"cuda\" if use_cuda else \"cpu\");\n",
    "torch.manual_seed(1);"
   ]
  },
  {
   "cell_type": "code",
   "execution_count": 3,
   "id": "479c59ce",
   "metadata": {},
   "outputs": [
    {
     "name": "stdout",
     "output_type": "stream",
     "text": [
      "Files already downloaded!\n",
      "Downloading http://yann.lecun.com/exdb/mnist/train-images-idx3-ubyte.gz\n",
      "Downloading http://yann.lecun.com/exdb/mnist/train-images-idx3-ubyte.gz to data/mnist/MNIST/raw/train-images-idx3-ubyte.gz\n",
      "Failed to download (trying next):\n",
      "HTTP Error 503: Service Unavailable\n",
      "\n",
      "Downloading https://ossci-datasets.s3.amazonaws.com/mnist/train-images-idx3-ubyte.gz\n",
      "Downloading https://ossci-datasets.s3.amazonaws.com/mnist/train-images-idx3-ubyte.gz to data/mnist/MNIST/raw/train-images-idx3-ubyte.gz\n"
     ]
    },
    {
     "data": {
      "application/vnd.jupyter.widget-view+json": {
       "model_id": "06a3eedf6fa549ebb7ac844878f81a8a",
       "version_major": 2,
       "version_minor": 0
      },
      "text/plain": [
       "HBox(children=(HTML(value=''), FloatProgress(value=0.0, max=9912422.0), HTML(value='')))"
      ]
     },
     "metadata": {},
     "output_type": "display_data"
    },
    {
     "name": "stdout",
     "output_type": "stream",
     "text": [
      "\n",
      "Extracting data/mnist/MNIST/raw/train-images-idx3-ubyte.gz to data/mnist/MNIST/raw\n",
      "\n",
      "Downloading http://yann.lecun.com/exdb/mnist/train-labels-idx1-ubyte.gz\n",
      "Downloading http://yann.lecun.com/exdb/mnist/train-labels-idx1-ubyte.gz to data/mnist/MNIST/raw/train-labels-idx1-ubyte.gz\n",
      "Failed to download (trying next):\n",
      "HTTP Error 503: Service Unavailable\n",
      "\n",
      "Downloading https://ossci-datasets.s3.amazonaws.com/mnist/train-labels-idx1-ubyte.gz\n",
      "Downloading https://ossci-datasets.s3.amazonaws.com/mnist/train-labels-idx1-ubyte.gz to data/mnist/MNIST/raw/train-labels-idx1-ubyte.gz\n"
     ]
    },
    {
     "data": {
      "application/vnd.jupyter.widget-view+json": {
       "model_id": "dc480ff1cdf048bf95fa80e12d977c99",
       "version_major": 2,
       "version_minor": 0
      },
      "text/plain": [
       "HBox(children=(HTML(value=''), FloatProgress(value=0.0, max=28881.0), HTML(value='')))"
      ]
     },
     "metadata": {},
     "output_type": "display_data"
    },
    {
     "name": "stdout",
     "output_type": "stream",
     "text": [
      "\n",
      "Extracting data/mnist/MNIST/raw/train-labels-idx1-ubyte.gz to data/mnist/MNIST/raw\n",
      "\n",
      "Downloading http://yann.lecun.com/exdb/mnist/t10k-images-idx3-ubyte.gz\n",
      "Downloading http://yann.lecun.com/exdb/mnist/t10k-images-idx3-ubyte.gz to data/mnist/MNIST/raw/t10k-images-idx3-ubyte.gz\n",
      "Failed to download (trying next):\n",
      "HTTP Error 503: Service Unavailable\n",
      "\n",
      "Downloading https://ossci-datasets.s3.amazonaws.com/mnist/t10k-images-idx3-ubyte.gz\n",
      "Downloading https://ossci-datasets.s3.amazonaws.com/mnist/t10k-images-idx3-ubyte.gz to data/mnist/MNIST/raw/t10k-images-idx3-ubyte.gz\n"
     ]
    },
    {
     "data": {
      "application/vnd.jupyter.widget-view+json": {
       "model_id": "b407944f547c43a69f9e9bb29527502c",
       "version_major": 2,
       "version_minor": 0
      },
      "text/plain": [
       "HBox(children=(HTML(value=''), FloatProgress(value=0.0, max=1648877.0), HTML(value='')))"
      ]
     },
     "metadata": {},
     "output_type": "display_data"
    },
    {
     "name": "stdout",
     "output_type": "stream",
     "text": [
      "\n",
      "Extracting data/mnist/MNIST/raw/t10k-images-idx3-ubyte.gz to data/mnist/MNIST/raw\n",
      "\n",
      "Downloading http://yann.lecun.com/exdb/mnist/t10k-labels-idx1-ubyte.gz\n",
      "Downloading http://yann.lecun.com/exdb/mnist/t10k-labels-idx1-ubyte.gz to data/mnist/MNIST/raw/t10k-labels-idx1-ubyte.gz\n"
     ]
    },
    {
     "data": {
      "application/vnd.jupyter.widget-view+json": {
       "model_id": "3b1ca0ca000b4856a4d18f1eb901e48c",
       "version_major": 2,
       "version_minor": 0
      },
      "text/plain": [
       "HBox(children=(HTML(value=''), FloatProgress(value=0.0, max=4542.0), HTML(value='')))"
      ]
     },
     "metadata": {},
     "output_type": "display_data"
    },
    {
     "name": "stdout",
     "output_type": "stream",
     "text": [
      "\n",
      "Extracting data/mnist/MNIST/raw/t10k-labels-idx1-ubyte.gz to data/mnist/MNIST/raw\n",
      "\n"
     ]
    },
    {
     "name": "stderr",
     "output_type": "stream",
     "text": [
      "/opt/conda/lib/python3.8/site-packages/torchvision/datasets/mnist.py:498: UserWarning: The given NumPy array is not writeable, and PyTorch does not support non-writeable tensors. This means you can write to the underlying (supposedly non-writeable) NumPy array using the tensor. You may want to copy the array to protect its data or make it writeable before converting it to a tensor. This type of warning will be suppressed for the rest of this program. (Triggered internally at  ../torch/csrc/utils/tensor_numpy.cpp:174.)\n",
      "  return torch.from_numpy(parsed.astype(m[2], copy=False)).view(*s)\n"
     ]
    }
   ],
   "source": [
    "from continualai.colab.scripts import mnist\n",
    "mnist.init() # We use MNIST Dataset"
   ]
  },
  {
   "cell_type": "code",
   "execution_count": 4,
   "id": "2f6e66ae",
   "metadata": {},
   "outputs": [
    {
     "name": "stdout",
     "output_type": "stream",
     "text": [
      "Size of training data is: 60000, size of test data: 10000\n",
      "Size of label 0 in training : 5923\n",
      "Size of label 1 in training : 6742\n",
      "Size of label 2 in training : 5958\n",
      "Size of label 3 in training : 6131\n",
      "Size of label 4 in training : 5842\n",
      "Size of label 5 in training : 5421\n",
      "Size of label 6 in training : 5918\n",
      "Size of label 7 in training : 6265\n",
      "Size of label 8 in training : 5851\n",
      "Size of label 9 in training : 5949\n"
     ]
    }
   ],
   "source": [
    "\n",
    "x_train, t_train, x_test, t_test = mnist.load() # MNIST Data is loaded\n",
    "\n",
    "print(f'Size of training data is: {t_train.shape[0]}, size of test data: {t_test.shape[0]}')\n",
    "\n",
    "for i in range(10):\n",
    "  print(f'Size of label {i} in training : {len(t_train[t_train == i])}')"
   ]
  },
  {
   "cell_type": "markdown",
   "id": "7a798c69",
   "metadata": {},
   "source": [
    "Under Single head setting we can use all 10 classes. But for Multi head setting we need to group the 10 classes into 5 takss by grouping them together.We call this task_data_with_overlap since the classes overlap."
   ]
  },
  {
   "cell_type": "code",
   "execution_count": 35,
   "id": "da6cc305",
   "metadata": {},
   "outputs": [],
   "source": [
    "\n",
    "task_classes_arr = [(0, 1), (2, 3), (4, 5), (6, 7), (8, 9)] #Tasks\n",
    "tasks_num = len(task_classes_arr) # 5\n",
    "\n",
    "task_data = []\n",
    "task_data_with_overlap = []\n",
    "for i, task_classes in enumerate(task_classes_arr):\n",
    "  train_mask = np.isin(t_train, task_classes)\n",
    "  test_mask = np.isin(t_test, task_classes)\n",
    "  x_train_task, t_train_task = x_train[train_mask], t_train[train_mask]\n",
    "  x_test_task, t_test_task = x_test[test_mask], t_test[test_mask]\n",
    "  \n",
    "  task_data.append((x_train_task, t_train_task, x_test_task, t_test_task))\n",
    "  task_data_with_overlap.append((x_train_task, t_train_task - (i * 2),\n",
    "                                 x_test_task, t_test_task - (i * 2)))\n",
    "\n",
    "\n",
    "def plot_task(axs, data, samples_num):\n",
    "  for sample in range(samples_num):\n",
    "    axs[sample].imshow(data[sample][0], cmap=\"gray\")\n",
    "\n",
    "    axs[sample].xaxis.set_ticks([])\n",
    "    axs[sample].yaxis.set_ticks([])\n",
    "\n"
   ]
  },
  {
   "cell_type": "code",
   "execution_count": 36,
   "id": "81ac376a",
   "metadata": {},
   "outputs": [
    {
     "data": {
      "image/png": "[encoded data removed]",
      "text/plain": [
       "<Figure size 360x216 with 18 Axes>"
      ]
     },
     "metadata": {},
     "output_type": "display_data"
    }
   ],
   "source": [
    "n_tasks, samples = 3, 6\n",
    "_, axs = plt.subplots(n_tasks, samples, figsize=(5, 3))\n",
    "for task in range(0,3):\n",
    "  axs[task, 0].set_ylabel(f'Task {task}', rotation=0)\n",
    "  axs[task, 0].yaxis.set_label_coords(-0.5,1)\n",
    "  plot_task(axs[task], task_data[task][0], samples)\n",
    "plt.tight_layout()"
   ]
  },
  {
   "cell_type": "markdown",
   "id": "408080d2",
   "metadata": {},
   "source": [
    "**Naive Model with Single Head strategy**\n",
    "\n",
    "The Naive strategy simply finetunes the model on the new data, without applying any CL strategies."
   ]
  },
  {
   "cell_type": "code",
   "execution_count": 13,
   "id": "792b36d8",
   "metadata": {},
   "outputs": [],
   "source": [
    "class FNet(nn.Module):\n",
    "  def __init__(self, hsize=512):\n",
    "    super(FNet, self).__init__()\n",
    "\n",
    "    self.l1 = nn.Linear(784, hsize) #Pytorch Linear\n",
    "    self.l2 = nn.Linear(hsize, 10)\n",
    "    \n",
    "  def forward(self, x):\n",
    "      x = x.view(x.size(0), -1)\n",
    "      x = F.relu(self.l1(x))\n",
    "      x = self.l2(x)\n",
    "      return x"
   ]
  },
  {
   "cell_type": "code",
   "execution_count": 31,
   "id": "e5a5f5e7",
   "metadata": {},
   "outputs": [],
   "source": [
    "def train(model, device, x_train, t_train, optimizer, epochs=10, log_training=False):\n",
    "    for epoch in range(epochs):\n",
    "      model.train()\n",
    "      \n",
    "      for start in range(0, len(t_train)-1, 256):\n",
    "        end = start + 256\n",
    "        x, y = torch.from_numpy(x_train[start:end]), torch.from_numpy(t_train[start:end]).long()\n",
    "        x, y = x.to(device), y.to(device)\n",
    "        \n",
    "        optimizer.zero_grad()\n",
    "\n",
    "        output = model(x)\n",
    "        loss = F.cross_entropy(output, y)\n",
    "        loss.backward()\n",
    "        optimizer.step()\n",
    "        if log_training:\n",
    "          print('Train Epoch: {} \\tLoss: {:.6f}'.format(epoch, loss.item()))"
   ]
  },
  {
   "cell_type": "code",
   "execution_count": 32,
   "id": "fc835bb2",
   "metadata": {},
   "outputs": [],
   "source": [
    "def test(model, device, x_test, t_test):\n",
    "    model.eval()\n",
    "    test_loss = 0\n",
    "    correct = 0\n",
    "    for start in range(0, len(t_test)-1, 256):\n",
    "      end = start + 256\n",
    "      with torch.no_grad():\n",
    "        x, y = torch.from_numpy(x_test[start:end]), torch.from_numpy(t_test[start:end]).long()\n",
    "        x, y = x.to(device), y.to(device)\n",
    "        output = model(x)\n",
    "        test_loss += F.cross_entropy(output, y).item() # sum up batch loss\n",
    "        pred = output.max(1, keepdim=True)[1] # get the index of the max logit\n",
    "        correct += pred.eq(y.view_as(pred)).sum().item()\n",
    "\n",
    "    test_loss /= len(t_test)\n",
    "    return test_loss, 100. * correct / len(t_test)"
   ]
  },
  {
   "cell_type": "code",
   "execution_count": 19,
   "id": "dc52ff7b",
   "metadata": {},
   "outputs": [
    {
     "name": "stdout",
     "output_type": "stream",
     "text": [
      "Training on Task 1\n",
      "Testing on Task 1: loss -> 1.564920339381089e-05, acc -> 99.95271867612293\n",
      "------------\n",
      "Training on Task 2\n",
      "Testing on Task 1: loss -> 0.0661305069077945, acc -> 0.0\n",
      "Testing on Task 2: loss -> 0.0002987998465658051, acc -> 97.20861900097943\n",
      "------------\n",
      "Training on Task 3\n",
      "Testing on Task 1: loss -> 0.05382058524634539, acc -> 0.0\n",
      "Testing on Task 2: loss -> 0.06662563899355001, acc -> 0.0\n",
      "Testing on Task 2: loss -> 7.496255884661686e-05, acc -> 99.24471299093656\n"
     ]
    }
   ],
   "source": [
    "model = FNet().to(device)\n",
    "optimizer = optim.SGD(model.parameters(), lr=0.01, momentum=0.9)\n",
    "x_train_1, t_train_1, x_test_1, t_test_1 = task_data[0]\n",
    "x_train_2, t_train_2, x_test_2, t_test_2 = task_data[1]\n",
    "x_train_3, t_train_3, x_test_3, t_test_3 = task_data[3]\n",
    "\n",
    "print('Training on Task 1')\n",
    "train(model, device, x_train_1, t_train_1, optimizer, epochs=3)\n",
    "\n",
    "loss, acc = test(model, device, x_test_1, t_test_1)\n",
    "print(f'Testing on Task 1: loss -> {loss}, acc -> {acc}')\n",
    "\n",
    "print('------------')\n",
    "print('Training on Task 2')\n",
    "train(model, device, x_train_2, t_train_2, optimizer, epochs=3)\n",
    "\n",
    "loss, acc = test(model, device, x_test_1, t_test_1)\n",
    "print(f'Testing on Task 1: loss -> {loss}, acc -> {acc}')\n",
    "loss, acc = test(model, device, x_test_2, t_test_2)\n",
    "print(f'Testing on Task 2: loss -> {loss}, acc -> {acc}')\n",
    "\n",
    "print('------------')\n",
    "print('Training on Task 3')\n",
    "train(model, device, x_train_3, t_train_3, optimizer, epochs=3)\n",
    "\n",
    "loss, acc = test(model, device, x_test_1, t_test_1)\n",
    "print(f'Testing on Task 1: loss -> {loss}, acc -> {acc}')\n",
    "loss, acc = test(model, device, x_test_2, t_test_2)\n",
    "print(f'Testing on Task 2: loss -> {loss}, acc -> {acc}')\n",
    "loss, acc = test(model, device, x_test_3, t_test_3)\n",
    "print(f'Testing on Task 2: loss -> {loss}, acc -> {acc}')"
   ]
  },
  {
   "cell_type": "markdown",
   "id": "fdd7302a",
   "metadata": {},
   "source": [
    "As we can see, the progress we achieved on Task #1 is lost once we fine-tune to Task #2. This is because of Catastrophic Forgetting seen in Neural Networks\n",
    "\n",
    "**Continual Learning via Rehearsal / Replay:**\n",
    "\n",
    "One way to mitigate Catastrophic Forgetting is to keep a portion of the old data to be interleaved with the data from the current task, so that the network does not forget. An ideal scenario is to keep all the old data, however, this is not practical in real applications with memory constraints. Therefore, it is preferrable to keep a limited number of old patterns to be replayed.\n"
   ]
  },
  {
   "cell_type": "code",
   "execution_count": 24,
   "id": "c828f232",
   "metadata": {},
   "outputs": [],
   "source": [
    "def siu(dataset, seed, in_place=False):\n",
    "\n",
    "\n",
    "    np.random.seed(seed)\n",
    "    rng_state = np.random.get_state()\n",
    "    new_dataset = []\n",
    "    for x in dataset:\n",
    "        if in_place:\n",
    "            np.random.shuffle(x)\n",
    "        else:\n",
    "            new_data.append(np.random.permutation(x))\n",
    "        np.random.set_state(rng_state)\n",
    "\n",
    "    if not in_place:\n",
    "        return new_data\n"
   ]
  },
  {
   "cell_type": "code",
   "execution_count": 25,
   "id": "c28e85d9",
   "metadata": {},
   "outputs": [],
   "source": [
    "def train_singlehead(past_examples_percentage=0, epochs=15):\n",
    "  model = FNet().to(device) \n",
    "  optimizer = optim.SGD(model.parameters(), lr=0.01, momentum=0.9)\n",
    "  accs_fine_grid = []\n",
    "  for i in range(tasks_num):\n",
    "    x_train, t_train, _, _ = task_data[i] #Iterate through all 5 Tasks\n",
    "\n",
    "    # concatenate previous tasks\n",
    "    for j in range(0, i + 1):\n",
    "      past_x_train, past_t_train, _, _ = task_data[j]\n",
    "      example_num = int(past_examples_percentage * len(past_t_train))\n",
    "      x_train = np.concatenate((x_train, past_x_train[:example_num]))\n",
    "      t_train = np.concatenate((t_train, past_t_train[:example_num]))\n",
    "\n",
    "    x_train, t_train = siu([x_train, t_train], 0) #Data Shuffled\n",
    "    train(model, device, x_train, t_train, optimizer, epochs)\n",
    "\n",
    "    # test on tasks seen so far\n",
    "    accs_subset = []\n",
    "    for j in range(0, i + 1):\n",
    "      _, _, x_test, t_test = task_data[j]\n",
    "      _, test_acc = test(model, device, x_test, t_test)\n",
    "      accs_subset.append(test_acc)\n",
    "    \n",
    "    if i < (tasks_num - 1):\n",
    "      accs_subset.extend([np.nan] * (4 - i))\n",
    "\n",
    "    accs_fine_grid.append(accs_subset)\n",
    "\n",
    "  return accs_fine_grid\n"
   ]
  },
  {
   "cell_type": "code",
   "execution_count": 26,
   "id": "42581b25",
   "metadata": {},
   "outputs": [],
   "source": [
    "accs_naive = train_singlehead() # naive: 0%\n",
    "accs_rehearsal_all = train_singlehead(1) # regural supervised fashion: 100% \n",
    "accs_rehearsal_5 = train_singlehead(0.05) # 5%, about 100 example per task"
   ]
  },
  {
   "cell_type": "code",
   "execution_count": 27,
   "id": "5182b6d1",
   "metadata": {},
   "outputs": [
    {
     "data": {
      "text/plain": [
       "[[99.95271867612293, nan, nan, nan, nan],\n",
       " [0.0, 98.13907933398629, nan, nan, nan],\n",
       " [0.0, 0.0, 99.46638207043756, nan, nan],\n",
       " [0.0, 0.0, 0.0, 99.59718026183283, nan],\n",
       " [0.0, 0.0, 0.0, 0.0, 98.18456883509833]]"
      ]
     },
     "execution_count": 27,
     "metadata": {},
     "output_type": "execute_result"
    }
   ],
   "source": [
    "accs_naive"
   ]
  },
  {
   "cell_type": "code",
   "execution_count": 28,
   "id": "bc44d2b2",
   "metadata": {},
   "outputs": [
    {
     "data": {
      "text/plain": [
       "[[99.95271867612293, nan, nan, nan, nan],\n",
       " [99.29078014184397, 98.4818805093046, nan, nan, nan],\n",
       " [99.24349881796691, 97.89422135161607, 98.93276414087514, nan, nan],\n",
       " [99.10165484633569,\n",
       "  97.74730656219393,\n",
       "  98.3991462113127,\n",
       "  98.03625377643505,\n",
       "  nan],\n",
       " [99.05437352245863,\n",
       "  98.13907933398629,\n",
       "  97.49199573105656,\n",
       "  97.18026183282981,\n",
       "  96.92385274836107]]"
      ]
     },
     "execution_count": 28,
     "metadata": {},
     "output_type": "execute_result"
    }
   ],
   "source": [
    "accs_rehearsal_all"
   ]
  },
  {
   "cell_type": "code",
   "execution_count": 29,
   "id": "b3d0795d",
   "metadata": {},
   "outputs": [
    {
     "data": {
      "text/plain": [
       "[[99.95271867612293, nan, nan, nan, nan],\n",
       " [93.94799054373523, 98.28599412340843, nan, nan, nan],\n",
       " [95.0354609929078, 84.32908912830558, 99.62646744930629, nan, nan],\n",
       " [95.65011820330969,\n",
       "  86.87561214495592,\n",
       "  87.45997865528281,\n",
       "  98.7411883182276,\n",
       "  nan],\n",
       " [94.13711583924349,\n",
       "  81.83153770812929,\n",
       "  78.97545357524012,\n",
       "  85.2467270896274,\n",
       "  97.78113968734242]]"
      ]
     },
     "execution_count": 29,
     "metadata": {},
     "output_type": "execute_result"
    }
   ],
   "source": [
    "accs_rehearsal_5"
   ]
  },
  {
   "cell_type": "code",
   "execution_count": 30,
   "id": "0ea2eaab",
   "metadata": {},
   "outputs": [
    {
     "data": {
      "text/plain": [
       "Text(0.5, 24.0, 'Task Number')"
      ]
     },
     "execution_count": 30,
     "metadata": {},
     "output_type": "execute_result"
    },
    {
     "data": {
      "image/png": "[encoded data removed]",
      "text/plain": [
       "<Figure size 1440x360 with 4 Axes>"
      ]
     },
     "metadata": {
      "needs_background": "light"
     },
     "output_type": "display_data"
    }
   ],
   "source": [
    "fig, axes = plt.subplots(1, 4, figsize=(20, 5))\n",
    "accs_fine_grid = np.array(accs_naive)\n",
    "nan_mask = np.isnan(accs_naive)\n",
    "\n",
    "sns.heatmap(accs_naive, vmin=0, vmax=100, mask=nan_mask, annot=True,fmt='g',\n",
    "            yticklabels=range(1, 6), xticklabels=range(1, 6), ax=axes[0], cbar=False)\n",
    "sns.heatmap(accs_rehearsal_5, vmin=0, vmax=100, mask=nan_mask, annot=True,fmt='g',\n",
    "            yticklabels=range(1, 6), xticklabels=range(1, 6), ax=axes[1], cbar=False)\n",
    "sns.heatmap(accs_rehearsal_all, vmin=0, vmax=100, mask=nan_mask, annot=True,  fmt='g',\n",
    "            yticklabels=range(1, 6), xticklabels=range(1, 6), ax=axes[2], cbar=False)\n",
    "\n",
    "axes[0].set_ylabel('Tested on Task')\n",
    "\n",
    "axes[0].set_xlabel('Naive') # No Rehersal\n",
    "axes[1].set_xlabel('Rehearsal 5 %')\n",
    "axes[2].set_xlabel('Rehearsal 100 %')\n",
    "\n",
    "\n",
    "axes[3].plot(range(1, 6), np.nanmean(accs_naive, axis=1))\n",
    "axes[3].plot(range(1, 6), np.nanmean(accs_rehearsal_all, axis=1))\n",
    "axes[3].plot(range(1, 6), np.nanmean(accs_rehearsal_5, axis=1))\n",
    "axes[3].legend(['Naive', 'Rehearsal 100%', 'Rehearsal 5%'])\n",
    "axes[3].set_ylabel('Accumulated Accuracy for Seen Tasks')\n",
    "axes[3].set_xlabel('Task Number')"
   ]
  },
  {
   "cell_type": "markdown",
   "id": "9b65fc86",
   "metadata": {},
   "source": [
    "In the above graph, we saw that accuracy improves by adding 5% of previous data (~50 example per class). Even if forgetting is not completely defeated, it definitely is a step forward from the Naive strategy."
   ]
  },
  {
   "cell_type": "code",
   "execution_count": null,
   "id": "d43e981e",
   "metadata": {},
   "outputs": [],
   "source": []
  }
 ],
 "metadata": {
  "kernelspec": {
   "display_name": "Python 3",
   "language": "python",
   "name": "python3"
  },
  "language_info": {
   "codemirror_mode": {
    "name": "ipython",
    "version": 3
   },
   "file_extension": ".py",
   "mimetype": "text/x-python",
   "name": "python",
   "nbconvert_exporter": "python",
   "pygments_lexer": "ipython3",
   "version": "3.8.10"
  }
 },
 "nbformat": 4,
 "nbformat_minor": 5
}
